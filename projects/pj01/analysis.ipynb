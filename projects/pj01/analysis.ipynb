{
 "cells": [
  {
   "cell_type": "code",
   "execution_count": 52,
   "metadata": {},
   "outputs": [],
   "source": [
    "%reload_ext autoreload\n",
    "%autoreload 2"
   ]
  },
  {
   "cell_type": "markdown",
   "metadata": {},
   "source": [
    "# Hypothesis/ Research Question: #\n",
    " Do students with computer science majors have more prior experience in programming than students of other majors? My hypothesis is that they do. "
   ]
  },
  {
   "cell_type": "markdown",
   "metadata": {},
   "source": [
    "# Procedure: #\n",
    "1. Produce two lists from the \"primary_major\" and \"prior_exp\" columns of the csv data. \n",
    "2. Assign every possible response to prior_exp (None to less than one month!, 2-6 months, 7-12 months, 1-2 years, Over 2 years) an experience score.  \n",
    "3. Group student response rows accoring to major (comp sci or not) and then add the appropriate experience score to score variable.\n",
    "4. Average and compare noncomp and comp scores to see which group of students has more prior programming experience. \n"
   ]
  },
  {
   "cell_type": "markdown",
   "metadata": {},
   "source": [
    "## 1. Produce two lists from the \"primary_major\" and \"prior_exp\" columns of the csv data, and give each response to prior_exp an experience score. ##"
   ]
  },
  {
   "cell_type": "code",
   "execution_count": 53,
   "metadata": {},
   "outputs": [],
   "source": [
    "from data_utils import *\n",
    "\n",
    "table = read_csv_rows(\"../../data/survey.csv\")\n",
    "\n",
    "noncomp=0\n",
    "numnoncomp = 0\n",
    "comp=0\n",
    "numcomp = 0\n",
    "\n",
    "majors: str = column_values(table,\"primary_major\")\n",
    "\n",
    "prior_exp: str = column_values(table,\"prior_exp\")"
   ]
  },
  {
   "cell_type": "markdown",
   "metadata": {},
   "source": [
    "## 2. Assign each possible response to prior_exp (None to less than one month!, 2-6 months, 7-12 months, 1-2 years, Over 2 years) an experience score. ##"
   ]
  },
  {
   "cell_type": "code",
   "execution_count": 54,
   "metadata": {},
   "outputs": [],
   "source": [
    "scores = list(range(len(prior_exp)))\n",
    "for p in range(len(prior_exp)):\n",
    "    if prior_exp[p] == \"None to less than one month!\":\n",
    "        scores[p]=1\n",
    "    elif prior_exp[p] == \"2-6 months\":\n",
    "        scores[p]=2\n",
    "    elif prior_exp[p] == \"7-12 months\":\n",
    "        scores[p]=3\n",
    "    elif prior_exp[p] == \"1-2 years\":\n",
    "        scores[p]=4\n",
    "    elif prior_exp[p] == \"Over 2 years\":\n",
    "        scores[p]=5\n"
   ]
  },
  {
   "cell_type": "markdown",
   "metadata": {},
   "source": [
    "## 3. Group student response rows accoring to major (comp sci or not) and then add the appropriate experience score to score variable. ##"
   ]
  },
  {
   "cell_type": "code",
   "execution_count": 55,
   "metadata": {},
   "outputs": [],
   "source": [
    "for i in range(len(prior_exp)):\n",
    "    if majors[i]==\"Computer Science\":\n",
    "        comp+=scores[i]\n",
    "        numcomp+=1\n",
    "    else:\n",
    "        noncomp+=scores[i]\n",
    "        numnoncomp+=1"
   ]
  },
  {
   "cell_type": "markdown",
   "metadata": {},
   "source": [
    "## 4. Average and compare noncomp and comp scores to see which group of students has more prior programming experience. ##"
   ]
  },
  {
   "cell_type": "code",
   "execution_count": 56,
   "metadata": {},
   "outputs": [
    {
     "name": "stdout",
     "output_type": "stream",
     "text": [
      "The average experience score for computer sceince majors was  2.1092436974789917 , while the average experience score for other majors was  1.3171806167400881\n",
      "True, computer sceince majors do have more prior programming experience than do their non-compiter science counterparts. Your hypothesis was correct. \n"
     ]
    }
   ],
   "source": [
    "avg_comp = comp / numcomp\n",
    "avg_noncomp = noncomp / numnoncomp\n",
    "\n",
    "print(\"The average experience score for computer sceince majors was \", avg_comp ,\", while the average experience score for other majors was \", avg_noncomp)\n",
    "\n",
    "if avg_comp > avg_noncomp:\n",
    "    print(\"True, computer sceince majors do have more prior programming experience than do their non-compiter science counterparts. Your hypothesis was correct. \")\n",
    "else:\n",
    "    print(\"False, computer sceince majors do not have more prior programming experience than do their non-compiter science counterparts. Your hypothesis was incorrect. \")"
   ]
  },
  {
   "cell_type": "markdown",
   "metadata": {},
   "source": [
    "# Conclusion: # \n",
    "In conducitng this data analysis, I was able to isolate the major and prior experience data from the csv file, as well as quantify the latter in order to compare the difference between the two groups of students. From this project, I I was able to answer my question, and the results proved my hypothesis to be correct. "
   ]
  },
  {
   "cell_type": "markdown",
   "metadata": {},
   "source": [
    "## Figure 1: ## \n",
    "\n",
    "Produce 2 visuals. Could be a data table or a plot. The libraries mentioned in this video are a good place to start! Feel free to explore what is out there. If you are producing plots and graphs, please be sure to label your axes and include a title. "
   ]
  },
  {
   "cell_type": "markdown",
   "metadata": {},
   "source": [
    "# Conclusion: # \n",
    "In conducitng this data analysis, I was able to isolate the major and prior experience data from the csv file, as well as quantify the latter in order to compare the difference between the two groups of students. From this project, I I was able to answer my question, and the results proved my hypothesis to be correct. "
   ]
  },
  {
   "cell_type": "markdown",
   "metadata": {},
   "source": [
    "## Figure 2: ## \n",
    "Produce 2 visuals. Could be a data table or a plot. The libraries mentioned in this video are a good place to start! Feel free to explore what is out there. If you are producing plots and graphs, please be sure to label your axes and include a title. "
   ]
  }
 ],
 "metadata": {
  "interpreter": {
   "hash": "aee8b7b246df8f9039afb4144a1f6fd8d2ca17a180786b69acc140d282b71a49"
  },
  "kernelspec": {
   "display_name": "Python 3.9.6 64-bit",
   "language": "python",
   "name": "python3"
  },
  "language_info": {
   "codemirror_mode": {
    "name": "ipython",
    "version": 3
   },
   "file_extension": ".py",
   "mimetype": "text/x-python",
   "name": "python",
   "nbconvert_exporter": "python",
   "pygments_lexer": "ipython3",
   "version": "3.9.6"
  },
  "orig_nbformat": 4
 },
 "nbformat": 4,
 "nbformat_minor": 2
}
